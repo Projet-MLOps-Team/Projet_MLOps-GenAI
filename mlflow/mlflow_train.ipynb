{
 "cells": [
  {
   "cell_type": "code",
   "execution_count": null,
   "id": "4a645560",
   "metadata": {},
   "outputs": [],
   "source": []
  },
  {
   "cell_type": "code",
   "execution_count": null,
   "id": "ffc42aa2",
   "metadata": {},
   "outputs": [
    {
     "name": "stdout",
     "output_type": "stream",
     "text": [
      "^C\n"
     ]
    }
   ],
   "source": [
    "# Lancer dans le Terminal\n",
    "# !mlflow server --host 127.0.0.1 --port 8080"
   ]
  },
  {
   "cell_type": "markdown",
   "id": "da3529f6",
   "metadata": {},
   "source": []
  },
  {
   "cell_type": "code",
   "execution_count": null,
   "id": "218d664c",
   "metadata": {},
   "outputs": [
    {
     "name": "stderr",
     "output_type": "stream",
     "text": [
      "2025/10/09 23:07:25 INFO mlflow.tracking.fluent: Experiment with name 'LogisticRegression' does not exist. Creating a new experiment.\n"
     ]
    },
    {
     "name": "stderr",
     "output_type": "stream",
     "text": [
      "2025/10/09 23:07:25 INFO mlflow.tracking.fluent: Experiment with name 'RandomForest' does not exist. Creating a new experiment.\n",
      "2025/10/09 23:07:25 INFO mlflow.tracking.fluent: Experiment with name 'DecisionTree' does not exist. Creating a new experiment.\n"
     ]
    },
    {
     "name": "stdout",
     "output_type": "stream",
     "text": [
      "Expérience 'LogisticRegression' prête !\n",
      "Expérience 'RandomForest' prête !\n",
      "Expérience 'DecisionTree' prête !\n"
     ]
    }
   ],
   "source": [
    "import mlflow\n",
    "\n",
    "# Définir où MLflow stockera les logs et runs\n",
    "mlflow.set_tracking_uri(\"file:///E:/Formation_Data_Analystic/projet_MLOps_GAI/Projet_MLOps/mlflow/mlruns\")\n",
    "\n",
    "\n",
    "\n",
    "# Liste des modèles pour lesquels on crée des expériences\n",
    "model_names = [\"LogisticRegression\", \"RandomForest\", \"DecisionTree\"]\n",
    "\n",
    "# Créer ou récupérer une expérience pour chaque modèle\n",
    "for model in model_names:\n",
    "    mlflow.set_experiment(model)\n",
    "    print(f\"Expérience '{model}' prête !\")"
   ]
  },
  {
   "cell_type": "code",
   "execution_count": null,
   "id": "cba4826e",
   "metadata": {},
   "outputs": [],
   "source": []
  }
 ],
 "metadata": {
  "kernelspec": {
   "display_name": "my_env",
   "language": "python",
   "name": "python3"
  },
  "language_info": {
   "codemirror_mode": {
    "name": "ipython",
    "version": 3
   },
   "file_extension": ".py",
   "mimetype": "text/x-python",
   "name": "python",
   "nbconvert_exporter": "python",
   "pygments_lexer": "ipython3",
   "version": "3.11.9"
  }
 },
 "nbformat": 4,
 "nbformat_minor": 5
}
