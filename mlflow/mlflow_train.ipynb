{
 "cells": [
  {
   "cell_type": "markdown",
   "id": "b1eceffd",
   "metadata": {},
   "source": [
    "## Prise en main MLflow"
   ]
  },
  {
   "cell_type": "code",
   "execution_count": 1,
   "id": "5643e016",
   "metadata": {},
   "outputs": [],
   "source": [
    "import os\n",
    "import mlflow\n",
    "import pandas as pd\n",
    "import numpy as np\n",
    "\n",
    "from sklearn.model_selection import train_test_split\n",
    "\n",
    "\n",
    "# Métriques & courbes\n",
    "from sklearn.metrics import (accuracy_score, f1_score)\n",
    "\n",
    "# import des modèles\n",
    "from sklearn.linear_model import LogisticRegression\n",
    "from sklearn.tree import DecisionTreeClassifier\n",
    "from sklearn.ensemble import RandomForestClassifier"
   ]
  },
  {
   "cell_type": "code",
   "execution_count": null,
   "id": "87955d1a",
   "metadata": {},
   "outputs": [],
   "source": [
    "# mlflow server --host 127.0.0.1 --port 5000\n",
    "# mlflow server --backend-store-uri mlruns --default-artifact-root mlruns --host 127.0.0.1 --port 5000"
   ]
  },
  {
   "cell_type": "code",
   "execution_count": 2,
   "id": "7d108a4c",
   "metadata": {},
   "outputs": [],
   "source": [
    "data_path = \"E:\\Formation_Data_Analystic\\projet_MLOps_GAI\\Projet_MLOps\\data\\datasetfinal.csv\"\n",
    "target_col = \"default\"\n",
    "\n",
    "# Charger et préparer les données\n",
    "df = pd.read_csv(data_path)\n",
    "X = df.drop(target_col, axis=1)\n",
    "y = df[target_col]\n",
    "\n",
    "X_train, X_test, y_train, y_test = train_test_split(X, y, test_size=0.2, random_state=42)"
   ]
  },
  {
   "cell_type": "code",
   "execution_count": 5,
   "id": "62d82578",
   "metadata": {},
   "outputs": [],
   "source": [
    "# Identification de l'interface MLflow\n",
    "mlflow.set_tracking_uri(\"file:///E:/Formation_Data_Analystic/projet_MLOps_GAI/Projet_MLOps/mlflow/mlruns\")"
   ]
  },
  {
   "cell_type": "markdown",
   "id": "ac3d7373",
   "metadata": {},
   "source": [
    "### Random Forest"
   ]
  },
  {
   "cell_type": "code",
   "execution_count": 10,
   "id": "927f4832",
   "metadata": {},
   "outputs": [
    {
     "name": "stderr",
     "output_type": "stream",
     "text": [
      "2025/10/14 23:35:50 WARNING mlflow.models.model: `artifact_path` is deprecated. Please use `name` instead.\n"
     ]
    },
    {
     "name": "stdout",
     "output_type": "stream",
     "text": [
      "file:///E:/Formation_Data_Analystic/projet_MLOps_GAI/Projet_MLOps/mlflow/mlruns/304591423748084014/0c9905eeb96d40b8b9c8b31443eea13b/artifacts\n"
     ]
    },
    {
     "name": "stderr",
     "output_type": "stream",
     "text": [
      "2025/10/14 23:35:56 WARNING mlflow.models.model: Model logged without a signature and input example. Please set `input_example` parameter when logging the model to auto infer the model signature.\n"
     ]
    }
   ],
   "source": [
    "\n",
    "# Identification du nom du projet MLflow\n",
    "mlflow.set_experiment(\"experiment_credit_default\")\n",
    "with mlflow.start_run() as run:\n",
    "    model = RandomForestClassifier(n_estimators = 100, max_depth = 5, random_state=42)\n",
    "    model.fit(X_train, y_train)\n",
    "\n",
    "    # On calcule le score du modèle sur le test\n",
    "    y_pred = model.predict(X_test)\n",
    "    score = f1_score(y_test, y_pred )\n",
    "\n",
    "    params = model.get_params()\n",
    "    mlflow.log_params(params)\n",
    "    mlflow.log_metric(\"f1\", score)\n",
    "\n",
    "    print(mlflow.get_artifact_uri())\n",
    "    mlflow.sklearn.log_model(model, \"model\")"
   ]
  },
  {
   "cell_type": "code",
   "execution_count": 8,
   "id": "2b5e3386",
   "metadata": {},
   "outputs": [
    {
     "data": {
      "text/plain": [
       "{'bootstrap': True,\n",
       " 'ccp_alpha': 0.0,\n",
       " 'class_weight': None,\n",
       " 'criterion': 'gini',\n",
       " 'max_depth': 5,\n",
       " 'max_features': 'sqrt',\n",
       " 'max_leaf_nodes': None,\n",
       " 'max_samples': None,\n",
       " 'min_impurity_decrease': 0.0,\n",
       " 'min_samples_leaf': 1,\n",
       " 'min_samples_split': 2,\n",
       " 'min_weight_fraction_leaf': 0.0,\n",
       " 'monotonic_cst': None,\n",
       " 'n_estimators': 100,\n",
       " 'n_jobs': None,\n",
       " 'oob_score': False,\n",
       " 'random_state': 42,\n",
       " 'verbose': 0,\n",
       " 'warm_start': False}"
      ]
     },
     "execution_count": 8,
     "metadata": {},
     "output_type": "execute_result"
    }
   ],
   "source": [
    "model.get_params()"
   ]
  },
  {
   "cell_type": "markdown",
   "id": "bb15ad14",
   "metadata": {},
   "source": [
    "### Avec le Modèle Décision Tree"
   ]
  },
  {
   "cell_type": "code",
   "execution_count": null,
   "id": "4846135c",
   "metadata": {},
   "outputs": [],
   "source": [
    "mlflow.set_experiment(\"experiment_credit_default\")\n",
    "with mlflow.start_run() as run:\n",
    "    model = DecisionTreeClassifier(max_depth = 5, criterion = \"gini\", random_state=42)\n",
    "    model.fit(X_train, y_train)\n",
    "\n",
    "    # On calcule le score du modèle sur le test\n",
    "    y_pred = model.predict(X_test)\n",
    "    score = f1_score(y_test, y_pred )\n",
    "    acc = accuracy_score(y_test, y_pred)\n",
    "\n",
    "    mlflow.log_params(max_depth = 5, criterion = \"gini\",)\n",
    "    mlflow.log_metric(\"f1\", score)\n",
    "    mlflow.log_metric(\"accuracy\", accuracy_score)\n",
    "\n",
    "    print(mlflow.get_artifact_uri())\n",
    "    mlflow.sklearn.log_model(model, \"model\")"
   ]
  },
  {
   "cell_type": "markdown",
   "id": "3dc26a42",
   "metadata": {},
   "source": [
    "### Modèle avec Regression logistique "
   ]
  },
  {
   "cell_type": "code",
   "execution_count": null,
   "id": "3af12e3c",
   "metadata": {},
   "outputs": [],
   "source": [
    "mlflow.set_experiment(\"experiment_credit_default\")\n",
    "with mlflow.start_run() as run:\n",
    "    model = LogisticRegression(C = 1.0, solver= \"lbfgs\", random_state=42)\n",
    "    model.fit(X_train, y_train)\n",
    "\n",
    "    # On calcule le score du modèle sur le test\n",
    "    y_pred = model.predict(X_test)\n",
    "    f1_weight = f1_score(y_test, y_pred )\n",
    "    acc = accuracy_score(y_test, y_pred)\n",
    "\n",
    "\n",
    "    mlflow.log_params(C = 1.0, solver= \"lbfgs\")\n",
    "    mlflow.log_metric(\"f1\", f1_score)\n",
    "    mlflow.log_metric(\"accuracy\", accuracy_score)\n",
    "\n",
    "    print(mlflow.get_artifact_uri())\n",
    "    mlflow.sklearn.log_model(model, \"model\")"
   ]
  }
 ],
 "metadata": {
  "kernelspec": {
   "display_name": "ma_env",
   "language": "python",
   "name": "python3"
  },
  "language_info": {
   "codemirror_mode": {
    "name": "ipython",
    "version": 3
   },
   "file_extension": ".py",
   "mimetype": "text/x-python",
   "name": "python",
   "nbconvert_exporter": "python",
   "pygments_lexer": "ipython3",
   "version": "3.11.9"
  }
 },
 "nbformat": 4,
 "nbformat_minor": 5
}
